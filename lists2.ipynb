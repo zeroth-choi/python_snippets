{
  "nbformat": 4,
  "nbformat_minor": 0,
  "metadata": {
    "kernelspec": {
      "display_name": "Python 3",
      "language": "python",
      "name": "python3"
    },
    "language_info": {
      "codemirror_mode": {
        "name": "ipython",
        "version": 3
      },
      "file_extension": ".py",
      "mimetype": "text/x-python",
      "name": "python",
      "nbconvert_exporter": "python",
      "pygments_lexer": "ipython3",
      "version": "3.8.8"
    },
    "toc": {
      "base_numbering": 1,
      "nav_menu": {},
      "number_sections": true,
      "sideBar": true,
      "skip_h1_title": true,
      "title_cell": "Table of Contents",
      "title_sidebar": "Contents",
      "toc_cell": true,
      "toc_position": {},
      "toc_section_display": true,
      "toc_window_display": true
    },
    "colab": {
      "name": "lists2.ipynb",
      "provenance": [],
      "include_colab_link": true
    }
  },
  "cells": [
    {
      "cell_type": "markdown",
      "metadata": {
        "id": "view-in-github",
        "colab_type": "text"
      },
      "source": [
        "<a href=\"https://colab.research.google.com/github/zeroth-choi/python_snippets/blob/main/lists2.ipynb\" target=\"_parent\"><img src=\"https://colab.research.google.com/assets/colab-badge.svg\" alt=\"Open In Colab\"/></a>"
      ]
    },
    {
      "cell_type": "markdown",
      "metadata": {
        "toc": true,
        "id": "FR8WPXTywOUn"
      },
      "source": [
        "<h1>Table of Contents<span class=\"tocSkip\"></span></h1>\n",
        "<div class=\"toc\"><ul class=\"toc-item\"><li><span><a href=\"#Sort-a-List\" data-toc-modified-id=\"Sort-a-List-1\"><span class=\"toc-item-num\">1&nbsp;&nbsp;</span>Sort a List</a></span><ul class=\"toc-item\"><li><span><a href=\"#Alphabetically\" data-toc-modified-id=\"Alphabetically-1.1\"><span class=\"toc-item-num\">1.1&nbsp;&nbsp;</span>Alphabetically</a></span></li><li><span><a href=\"#Reverse-Alphabetically\" data-toc-modified-id=\"Reverse-Alphabetically-1.2\"><span class=\"toc-item-num\">1.2&nbsp;&nbsp;</span>Reverse Alphabetically</a></span></li><li><span><a href=\"#acording-to-the-length-of-elements\" data-toc-modified-id=\"acording-to-the-length-of-elements-1.3\"><span class=\"toc-item-num\">1.3&nbsp;&nbsp;</span>acording to the length of elements</a></span></li></ul></li><li><span><a href=\"#Arithmetic-average\" data-toc-modified-id=\"Arithmetic-average-2\"><span class=\"toc-item-num\">2&nbsp;&nbsp;</span>Arithmetic average</a></span><ul class=\"toc-item\"><li><span><a href=\"#Test-speed\" data-toc-modified-id=\"Test-speed-2.1\"><span class=\"toc-item-num\">2.1&nbsp;&nbsp;</span>Test speed</a></span></li></ul></li><li><span><a href=\"#Sum-of-Lists\" data-toc-modified-id=\"Sum-of-Lists-3\"><span class=\"toc-item-num\">3&nbsp;&nbsp;</span>Sum of Lists</a></span><ul class=\"toc-item\"><li><span><a href=\"#Lists\" data-toc-modified-id=\"Lists-3.1\"><span class=\"toc-item-num\">3.1&nbsp;&nbsp;</span>Lists</a></span></li><li><span><a href=\"#Sum-of-Two-Lists\" data-toc-modified-id=\"Sum-of-Two-Lists-3.2\"><span class=\"toc-item-num\">3.2&nbsp;&nbsp;</span>Sum of Two Lists</a></span></li><li><span><a href=\"#Sum-of-Two-or-More-Lists\" data-toc-modified-id=\"Sum-of-Two-or-More-Lists-3.3\"><span class=\"toc-item-num\">3.3&nbsp;&nbsp;</span>Sum of Two or More Lists</a></span></li></ul></li><li><span><a href=\"#Flatten-List-of-Lists\" data-toc-modified-id=\"Flatten-List-of-Lists-4\"><span class=\"toc-item-num\">4&nbsp;&nbsp;</span>Flatten List of Lists</a></span><ul class=\"toc-item\"><li><span><a href=\"#Flatten\" data-toc-modified-id=\"Flatten-4.1\"><span class=\"toc-item-num\">4.1&nbsp;&nbsp;</span>Flatten</a></span></li><li><span><a href=\"#Flatten-mixed-list\" data-toc-modified-id=\"Flatten-mixed-list-4.2\"><span class=\"toc-item-num\">4.2&nbsp;&nbsp;</span>Flatten mixed list</a></span></li></ul></li><li><span><a href=\"#Iterate-a-list-as-pair\" data-toc-modified-id=\"Iterate-a-list-as-pair-5\"><span class=\"toc-item-num\">5&nbsp;&nbsp;</span>Iterate a list as pair</a></span></li><li><span><a href=\"#Count-all-elements\" data-toc-modified-id=\"Count-all-elements-6\"><span class=\"toc-item-num\">6&nbsp;&nbsp;</span>Count all elements</a></span></li></ul></div>"
      ]
    },
    {
      "cell_type": "markdown",
      "metadata": {
        "id": "KhqQuER2wOUr"
      },
      "source": [
        "## Sort a List"
      ]
    },
    {
      "cell_type": "markdown",
      "metadata": {
        "id": "rmR_uL7nwOUs"
      },
      "source": [
        "### Alphabetically"
      ]
    },
    {
      "cell_type": "code",
      "metadata": {
        "ExecuteTime": {
          "end_time": "2021-06-05T11:36:12.420620Z",
          "start_time": "2021-06-05T11:36:12.406586Z"
        },
        "id": "xpXEstvEwOUs"
      },
      "source": [
        "lst = ['James', 'Mary', 'John', 'Patricia', 'Robert', 'Jennifer']"
      ],
      "execution_count": null,
      "outputs": []
    },
    {
      "cell_type": "code",
      "metadata": {
        "ExecuteTime": {
          "end_time": "2021-06-05T11:36:12.842999Z",
          "start_time": "2021-06-05T11:36:12.827338Z"
        },
        "id": "UT1wwC8YwOUt",
        "outputId": "f53fff54-269d-49c5-93d0-5e998e3946d2"
      },
      "source": [
        "sorted(lst)"
      ],
      "execution_count": null,
      "outputs": [
        {
          "data": {
            "text/plain": [
              "['James', 'Jennifer', 'John', 'Mary', 'Patricia', 'Robert']"
            ]
          },
          "execution_count": 35,
          "metadata": {},
          "output_type": "execute_result"
        }
      ]
    },
    {
      "cell_type": "code",
      "metadata": {
        "ExecuteTime": {
          "end_time": "2021-06-05T11:36:13.280626Z",
          "start_time": "2021-06-05T11:36:13.269383Z"
        },
        "id": "yeKgYoIQwOUu",
        "outputId": "bc07f47b-b515-432b-e5d5-ba70faeeb754"
      },
      "source": [
        "lst.sort()\n",
        "lst"
      ],
      "execution_count": null,
      "outputs": [
        {
          "data": {
            "text/plain": [
              "['James', 'Jennifer', 'John', 'Mary', 'Patricia', 'Robert']"
            ]
          },
          "execution_count": 36,
          "metadata": {},
          "output_type": "execute_result"
        }
      ]
    },
    {
      "cell_type": "markdown",
      "metadata": {
        "id": "d1OjHAvxwOUv"
      },
      "source": [
        "### Reverse Alphabetically"
      ]
    },
    {
      "cell_type": "code",
      "metadata": {
        "ExecuteTime": {
          "end_time": "2021-06-05T11:36:14.137531Z",
          "start_time": "2021-06-05T11:36:14.128557Z"
        },
        "id": "_MzQ15X5wOUw",
        "outputId": "9a54415a-bfdb-400f-ec96-89d929e13e14"
      },
      "source": [
        "sorted(lst, reverse=True)"
      ],
      "execution_count": null,
      "outputs": [
        {
          "data": {
            "text/plain": [
              "['Robert', 'Patricia', 'Mary', 'John', 'Jennifer', 'James']"
            ]
          },
          "execution_count": 37,
          "metadata": {},
          "output_type": "execute_result"
        }
      ]
    },
    {
      "cell_type": "code",
      "metadata": {
        "ExecuteTime": {
          "end_time": "2021-06-05T11:36:14.560465Z",
          "start_time": "2021-06-05T11:36:14.551240Z"
        },
        "id": "JPRGXBVNwOUw",
        "outputId": "9de60e94-6609-4bb4-cfbe-df4b77169b97"
      },
      "source": [
        "lst.sort(reverse=True)\n",
        "lst"
      ],
      "execution_count": null,
      "outputs": [
        {
          "data": {
            "text/plain": [
              "['Robert', 'Patricia', 'Mary', 'John', 'Jennifer', 'James']"
            ]
          },
          "execution_count": 38,
          "metadata": {},
          "output_type": "execute_result"
        }
      ]
    },
    {
      "cell_type": "code",
      "metadata": {
        "ExecuteTime": {
          "end_time": "2021-06-05T11:36:14.919448Z",
          "start_time": "2021-06-05T11:36:14.907391Z"
        },
        "id": "RdQNYnfZwOUx",
        "outputId": "abe022ff-6123-4ab5-b389-ef5c32a96d05"
      },
      "source": [
        "list(reversed(sorted(lst)))"
      ],
      "execution_count": null,
      "outputs": [
        {
          "data": {
            "text/plain": [
              "['Robert', 'Patricia', 'Mary', 'John', 'Jennifer', 'James']"
            ]
          },
          "execution_count": 39,
          "metadata": {},
          "output_type": "execute_result"
        }
      ]
    },
    {
      "cell_type": "markdown",
      "metadata": {
        "id": "3neWviDEwOUx"
      },
      "source": [
        "### acording to the length of elements"
      ]
    },
    {
      "cell_type": "code",
      "metadata": {
        "ExecuteTime": {
          "end_time": "2021-06-05T11:36:15.833254Z",
          "start_time": "2021-06-05T11:36:15.818971Z"
        },
        "id": "LhrKHmNmwOUy"
      },
      "source": [
        "lst = ['James', 'Mary', 'John', 'Patricia', 'Robert', 'Jennifer']"
      ],
      "execution_count": null,
      "outputs": []
    },
    {
      "cell_type": "code",
      "metadata": {
        "ExecuteTime": {
          "end_time": "2021-06-05T11:33:16.657803Z",
          "start_time": "2021-06-05T11:33:16.637133Z"
        },
        "id": "QkDl6djEwOUy",
        "outputId": "b3a5596b-e0bb-4ede-9adb-42e176d5853b"
      },
      "source": [
        "sorted(lst, key=len)"
      ],
      "execution_count": null,
      "outputs": [
        {
          "data": {
            "text/plain": [
              "['Mary', 'John', 'James', 'Robert', 'Patricia', 'Jennifer']"
            ]
          },
          "execution_count": 21,
          "metadata": {},
          "output_type": "execute_result"
        }
      ]
    },
    {
      "cell_type": "code",
      "metadata": {
        "ExecuteTime": {
          "end_time": "2021-06-05T11:29:55.955810Z",
          "start_time": "2021-06-05T11:29:55.945894Z"
        },
        "id": "0Y-JBGEdwOUz",
        "outputId": "832196b5-56ea-4670-abcb-073e292ad9bc"
      },
      "source": [
        "lst.sort(key=len)\n",
        "lst"
      ],
      "execution_count": null,
      "outputs": [
        {
          "data": {
            "text/plain": [
              "['Mary', 'John', 'James', 'Robert', 'Patricia', 'Jennifer']"
            ]
          },
          "execution_count": 16,
          "metadata": {},
          "output_type": "execute_result"
        }
      ]
    },
    {
      "cell_type": "code",
      "metadata": {
        "ExecuteTime": {
          "end_time": "2021-06-05T11:33:22.468200Z",
          "start_time": "2021-06-05T11:33:22.457880Z"
        },
        "id": "JLmhrEiUwOUz",
        "outputId": "0be25daa-8de2-4310-8253-6c8deedfaf29"
      },
      "source": [
        "list(reversed(sorted(lst, key=len)))"
      ],
      "execution_count": null,
      "outputs": [
        {
          "data": {
            "text/plain": [
              "['Jennifer', 'Patricia', 'Robert', 'James', 'John', 'Mary']"
            ]
          },
          "execution_count": 22,
          "metadata": {},
          "output_type": "execute_result"
        }
      ]
    },
    {
      "cell_type": "code",
      "metadata": {
        "ExecuteTime": {
          "end_time": "2021-06-05T11:33:23.780293Z",
          "start_time": "2021-06-05T11:33:23.767593Z"
        },
        "id": "8DoPQ1DdwOUz",
        "outputId": "5e881bb8-4691-401d-86ad-effa781a6a79"
      },
      "source": [
        "sorted(lst, key=len, reverse=True)"
      ],
      "execution_count": null,
      "outputs": [
        {
          "data": {
            "text/plain": [
              "['Patricia', 'Jennifer', 'Robert', 'James', 'Mary', 'John']"
            ]
          },
          "execution_count": 23,
          "metadata": {},
          "output_type": "execute_result"
        }
      ]
    },
    {
      "cell_type": "code",
      "metadata": {
        "ExecuteTime": {
          "end_time": "2021-06-05T11:33:28.686654Z",
          "start_time": "2021-06-05T11:33:28.680257Z"
        },
        "id": "-FGJclTkwOU0",
        "outputId": "fe9af749-34af-4006-c347-954ed6a2e4e0"
      },
      "source": [
        "lst.sort(key=len, reverse=True)\n",
        "lst"
      ],
      "execution_count": null,
      "outputs": [
        {
          "data": {
            "text/plain": [
              "['Patricia', 'Jennifer', 'Robert', 'James', 'Mary', 'John']"
            ]
          },
          "execution_count": 24,
          "metadata": {},
          "output_type": "execute_result"
        }
      ]
    },
    {
      "cell_type": "markdown",
      "metadata": {
        "id": "Ha8Td7gTwOU0"
      },
      "source": [
        "## Arithmetic average\n",
        "[Finding the average of a list](https://stackoverflow.com/questions/9039961/finding-the-average-of-a-list)"
      ]
    },
    {
      "cell_type": "code",
      "metadata": {
        "id": "CJacYubFwOU1"
      },
      "source": [
        "data = [1, 2, 3, 4]"
      ],
      "execution_count": null,
      "outputs": []
    },
    {
      "cell_type": "code",
      "metadata": {
        "id": "Qa3LnzDcwOU1",
        "outputId": "31fa8c3d-9623-42bc-8d74-dc27058d3a4b"
      },
      "source": [
        "def cal_total(d):\n",
        "    total = 0\n",
        "    for x in d:\n",
        "        total = total + x\n",
        "    return total\n",
        "\n",
        "ave = cal_total(data) / len(data)\n",
        "print(ave)"
      ],
      "execution_count": null,
      "outputs": [
        {
          "name": "stdout",
          "output_type": "stream",
          "text": [
            "2.5\n"
          ]
        }
      ]
    },
    {
      "cell_type": "code",
      "metadata": {
        "id": "_WKOA2oCwOU1",
        "outputId": "38479e9d-d493-4d5b-9575-c9d78d2836e7"
      },
      "source": [
        "ave = sum(data) / len(data)\n",
        "print(ave)"
      ],
      "execution_count": null,
      "outputs": [
        {
          "name": "stdout",
          "output_type": "stream",
          "text": [
            "2.5\n"
          ]
        }
      ]
    },
    {
      "cell_type": "markdown",
      "metadata": {
        "id": "ZIgSuF07wOU1"
      },
      "source": [
        "total = 0\n",
        "[total := total + x for x in data]  # in Python 3.8\n",
        "print(total / len(data))"
      ]
    },
    {
      "cell_type": "code",
      "metadata": {
        "id": "HTSFBMx9wOU2",
        "outputId": "2b2c4ad9-26b1-4b18-c2fe-2a29ce75a9c2"
      },
      "source": [
        "import statistics\n",
        "ave = statistics.mean(data)\n",
        "print(ave)"
      ],
      "execution_count": null,
      "outputs": [
        {
          "name": "stdout",
          "output_type": "stream",
          "text": [
            "2.5\n"
          ]
        }
      ]
    },
    {
      "cell_type": "code",
      "metadata": {
        "id": "DVMywUWIwOU2",
        "outputId": "fa4fd94d-177d-465d-d96d-e93719e00ac9"
      },
      "source": [
        "import numpy as np\n",
        "ave = np.mean(data)\n",
        "print(ave)"
      ],
      "execution_count": null,
      "outputs": [
        {
          "name": "stdout",
          "output_type": "stream",
          "text": [
            "2.5\n"
          ]
        }
      ]
    },
    {
      "cell_type": "code",
      "metadata": {
        "id": "Lrq9XhDgwOU2",
        "outputId": "122b4ea0-0dc3-4e8b-97ed-cf2cd7b52e3e"
      },
      "source": [
        "import numpy as np\n",
        "ave = np.average(data)\n",
        "print(ave)"
      ],
      "execution_count": null,
      "outputs": [
        {
          "name": "stdout",
          "output_type": "stream",
          "text": [
            "2.5\n"
          ]
        }
      ]
    },
    {
      "cell_type": "code",
      "metadata": {
        "id": "PHUWdylvwOU2",
        "outputId": "6d30ce23-3238-4dac-dc74-20beab78fbf9"
      },
      "source": [
        "import numpy as np\n",
        "ave = np.array(data).mean()\n",
        "print(ave)"
      ],
      "execution_count": null,
      "outputs": [
        {
          "name": "stdout",
          "output_type": "stream",
          "text": [
            "2.5\n"
          ]
        }
      ]
    },
    {
      "cell_type": "code",
      "metadata": {
        "id": "l3w-C8iIwOU3",
        "outputId": "397bd648-fd62-4fe6-96f7-bfb33d1e6302"
      },
      "source": [
        "import pandas as pd\n",
        "ave = pd.Series(data).mean()\n",
        "print(ave)"
      ],
      "execution_count": null,
      "outputs": [
        {
          "name": "stdout",
          "output_type": "stream",
          "text": [
            "2.5\n"
          ]
        }
      ]
    },
    {
      "cell_type": "code",
      "metadata": {
        "id": "w67goEa1wOU3",
        "outputId": "061beb01-639f-4295-a474-7b163d64cf27"
      },
      "source": [
        "from scipy import stats\n",
        "result = stats.describe(data)\n",
        "print(result)"
      ],
      "execution_count": null,
      "outputs": [
        {
          "name": "stdout",
          "output_type": "stream",
          "text": [
            "DescribeResult(nobs=4, minmax=(1, 4), mean=2.5, variance=1.6666666666666667, skewness=0.0, kurtosis=-1.36)\n"
          ]
        }
      ]
    },
    {
      "cell_type": "code",
      "metadata": {
        "id": "dZWa7ABawOU3",
        "outputId": "c737bb0d-da39-4460-ca97-3c9c25d4679b"
      },
      "source": [
        "result[2]"
      ],
      "execution_count": null,
      "outputs": [
        {
          "data": {
            "text/plain": [
              "2.5"
            ]
          },
          "execution_count": 10,
          "metadata": {},
          "output_type": "execute_result"
        }
      ]
    },
    {
      "cell_type": "code",
      "metadata": {
        "id": "gXtNHb3uwOU3",
        "outputId": "5d44190b-7347-46b0-d58b-ebbd6324e4ed"
      },
      "source": [
        "from functools import reduce\n",
        "ave = reduce(lambda x, y: x + y, data) / len(data)\n",
        "print(ave)"
      ],
      "execution_count": null,
      "outputs": [
        {
          "name": "stdout",
          "output_type": "stream",
          "text": [
            "2.5\n"
          ]
        }
      ]
    },
    {
      "cell_type": "code",
      "metadata": {
        "id": "tNIqZW3_wOU4",
        "outputId": "33031c49-8c0e-41ac-8926-6ab6e2763cd4"
      },
      "source": [
        "from functools import reduce\n",
        "import operator\n",
        "ave = reduce(operator.add, data) / len(data)\n",
        "print(ave)"
      ],
      "execution_count": null,
      "outputs": [
        {
          "name": "stdout",
          "output_type": "stream",
          "text": [
            "2.5\n"
          ]
        }
      ]
    },
    {
      "cell_type": "code",
      "metadata": {
        "id": "JKI98MchwOU4",
        "outputId": "5255e1d9-1c35-480b-8a2c-f3689c0bd33f"
      },
      "source": [
        "import operator, itertools\n",
        "ave = list(itertools.accumulate(data, operator.add)).pop(-1) / len(data)\n",
        "print(ave)"
      ],
      "execution_count": null,
      "outputs": [
        {
          "name": "stdout",
          "output_type": "stream",
          "text": [
            "2.5\n"
          ]
        }
      ]
    },
    {
      "cell_type": "code",
      "metadata": {
        "id": "3MSRKfhVwOU4",
        "outputId": "9e809abc-049f-419f-a0e4-482baffd8107"
      },
      "source": [
        "from operator import truediv\n",
        "def sum_and_count(x, y):\n",
        "    try:\n",
        "        return (x[0] + y, x[1] + 1)\n",
        "    except TypeError:\n",
        "        return (x + y, 2)\n",
        "ave = truediv(*reduce(sum_and_count, data))\n",
        "print(ave)"
      ],
      "execution_count": null,
      "outputs": [
        {
          "name": "stdout",
          "output_type": "stream",
          "text": [
            "2.5\n"
          ]
        }
      ]
    },
    {
      "cell_type": "markdown",
      "metadata": {
        "id": "L9avOVKSwOU4"
      },
      "source": [
        "### Test speed"
      ]
    },
    {
      "cell_type": "code",
      "metadata": {
        "scrolled": true,
        "id": "eB2filj5wOU4",
        "outputId": "9d8b83e0-fc23-4c15-c44d-8ef606470693"
      },
      "source": [
        "import timeit\n",
        "\n",
        "NUMBERS_OF_TIMES_TO_TEST = 10000\n",
        "\n",
        "data = list(range(100))\n",
        "\n",
        "def mean0():\n",
        "    return cal_total(data) / len(data)\n",
        "\n",
        "def mean1():\n",
        "    return sum(data) / len(data)\n",
        "\n",
        "def mean2():\n",
        "    return statistics.mean(data)\n",
        "\n",
        "def mean3():\n",
        "    return np.mean(data)\n",
        "\n",
        "def mean4():\n",
        "    return np.average(data)\n",
        "\n",
        "def mean5():\n",
        "    return np.array(data).mean()\n",
        "\n",
        "a = np.array(data)\n",
        "def mean5a():\n",
        "    return a.mean()\n",
        "\n",
        "def mean6():\n",
        "    return pd.Series(data).mean()\n",
        "\n",
        "s = pd.Series(data)\n",
        "def mean6a():\n",
        "    return s.mean()\n",
        "\n",
        "def mean7():\n",
        "    return stats.describe(data)[2]\n",
        "\n",
        "def mean8():\n",
        "    return reduce(lambda x, y: x + y, data) / len(data)\n",
        "\n",
        "def mean9():\n",
        "    return reduce(operator.add, data) / len(data)\n",
        "\n",
        "def mean10():\n",
        "    return list(itertools.accumulate(data, operator.add)).pop(-1) / len(data)\n",
        "\n",
        "def mean11():\n",
        "    return truediv(*reduce(sum_and_count, data))\n",
        "\n",
        "for func in [mean0, mean1, mean2, mean3, mean4, mean5, mean5a, mean6, mean6a, mean7, mean8, mean9, mean10, mean11]:\n",
        "    print(f\"{func.__name__} took: \",  timeit.timeit(stmt=func, number=NUMBERS_OF_TIMES_TO_TEST))"
      ],
      "execution_count": null,
      "outputs": [
        {
          "name": "stdout",
          "output_type": "stream",
          "text": [
            "mean0 took:  0.04780859999999976\n",
            "mean1 took:  0.012825599999999326\n",
            "mean2 took:  0.6706278000000001\n",
            "mean3 took:  0.1475173999999999\n",
            "mean4 took:  0.1462942000000016\n",
            "mean5 took:  0.12864569999999986\n",
            "mean5a took:  0.06669190000000036\n",
            "mean6 took:  1.5488654999999998\n",
            "mean6a took:  0.2911704999999998\n",
            "mean7 took:  4.663896900000001\n",
            "mean8 took:  0.10356760000000165\n",
            "mean9 took:  0.05522280000000279\n",
            "mean10 took:  0.06420409999999777\n",
            "mean11 took:  0.19287320000000108\n"
          ]
        }
      ]
    },
    {
      "cell_type": "markdown",
      "metadata": {
        "id": "Gu9MlH9IwOU5"
      },
      "source": [
        "## Sum of Lists"
      ]
    },
    {
      "cell_type": "markdown",
      "metadata": {
        "id": "AhjixwtxwOU5"
      },
      "source": [
        "### Lists"
      ]
    },
    {
      "cell_type": "code",
      "metadata": {
        "ExecuteTime": {
          "end_time": "2021-05-04T09:55:56.437643Z",
          "start_time": "2021-05-04T09:55:56.422175Z"
        },
        "id": "hV-iCJYrwOU5"
      },
      "source": [
        "a = [1,2,3,4,5]\n",
        "b = [6,7,8,9,10]\n",
        "c = [11,12,13,14,15]"
      ],
      "execution_count": null,
      "outputs": []
    },
    {
      "cell_type": "code",
      "metadata": {
        "ExecuteTime": {
          "end_time": "2021-05-04T09:55:56.871821Z",
          "start_time": "2021-05-04T09:55:56.852753Z"
        },
        "id": "Oey4QisqwOU5"
      },
      "source": [
        "list_of_lists = [a, b, c]"
      ],
      "execution_count": null,
      "outputs": []
    },
    {
      "cell_type": "markdown",
      "metadata": {
        "id": "SeAkJaMmwOU5"
      },
      "source": [
        "### Sum of Two Lists"
      ]
    },
    {
      "cell_type": "code",
      "metadata": {
        "ExecuteTime": {
          "end_time": "2021-05-04T09:55:57.603181Z",
          "start_time": "2021-05-04T09:55:57.589096Z"
        },
        "id": "-DrNYo3IwOU6",
        "outputId": "d6a594c7-4794-4438-f57e-6c7537778c63"
      },
      "source": [
        "[a[i] + b[i] for i in range(min(len(a), len(b)))]"
      ],
      "execution_count": null,
      "outputs": [
        {
          "data": {
            "text/plain": [
              "[7, 9, 11, 13, 15]"
            ]
          },
          "execution_count": 19,
          "metadata": {},
          "output_type": "execute_result"
        }
      ]
    },
    {
      "cell_type": "code",
      "metadata": {
        "ExecuteTime": {
          "end_time": "2021-05-04T09:55:57.881689Z",
          "start_time": "2021-05-04T09:55:57.870424Z"
        },
        "id": "yIH14GpPwOU6",
        "outputId": "6fe44b0e-0b89-40a9-c639-07c43fc96ad5"
      },
      "source": [
        "[sum(i) for i in zip(a, b)]"
      ],
      "execution_count": null,
      "outputs": [
        {
          "data": {
            "text/plain": [
              "[7, 9, 11, 13, 15]"
            ]
          },
          "execution_count": 20,
          "metadata": {},
          "output_type": "execute_result"
        }
      ]
    },
    {
      "cell_type": "code",
      "metadata": {
        "ExecuteTime": {
          "end_time": "2021-05-04T09:55:58.195562Z",
          "start_time": "2021-05-04T09:55:58.171618Z"
        },
        "id": "WAoeTNp8wOU6",
        "outputId": "088ac3b2-9fca-4ddf-8cab-68c510109fb1"
      },
      "source": [
        "[x + y for x, y in zip(a, b)]"
      ],
      "execution_count": null,
      "outputs": [
        {
          "data": {
            "text/plain": [
              "[7, 9, 11, 13, 15]"
            ]
          },
          "execution_count": 21,
          "metadata": {},
          "output_type": "execute_result"
        }
      ]
    },
    {
      "cell_type": "code",
      "metadata": {
        "ExecuteTime": {
          "end_time": "2021-05-04T09:55:58.477223Z",
          "start_time": "2021-05-04T09:55:58.468249Z"
        },
        "id": "kDBdKDsHwOU6",
        "outputId": "2a5ef831-8993-47aa-d512-c0403f9c8517"
      },
      "source": [
        "import operator\n",
        "list(map(operator.add, a, b))"
      ],
      "execution_count": null,
      "outputs": [
        {
          "data": {
            "text/plain": [
              "[7, 9, 11, 13, 15]"
            ]
          },
          "execution_count": 22,
          "metadata": {},
          "output_type": "execute_result"
        }
      ]
    },
    {
      "cell_type": "code",
      "metadata": {
        "ExecuteTime": {
          "end_time": "2021-05-04T09:55:58.773431Z",
          "start_time": "2021-05-04T09:55:58.761464Z"
        },
        "id": "VBJxIZluwOU6",
        "outputId": "bf4243bd-6f52-4e77-a18b-d9c86fbfc059"
      },
      "source": [
        "import numpy as np\n",
        "np.add(a, b).tolist()    # only for equal lengths"
      ],
      "execution_count": null,
      "outputs": [
        {
          "data": {
            "text/plain": [
              "[7, 9, 11, 13, 15]"
            ]
          },
          "execution_count": 23,
          "metadata": {},
          "output_type": "execute_result"
        }
      ]
    },
    {
      "cell_type": "markdown",
      "metadata": {
        "id": "liX3ad9fwOU7"
      },
      "source": [
        "### Sum of Two or More Lists"
      ]
    },
    {
      "cell_type": "code",
      "metadata": {
        "id": "MgHKjs39wOU7",
        "outputId": "ad7a91d1-5423-4921-ba56-69dc096e4033"
      },
      "source": [
        "lst = []\n",
        "for i in range(len(a)):\n",
        "    lst.append(a[i] + b[i] + c[i])\n",
        "lst"
      ],
      "execution_count": null,
      "outputs": [
        {
          "data": {
            "text/plain": [
              "[18, 21, 24, 27, 30]"
            ]
          },
          "execution_count": 20,
          "metadata": {},
          "output_type": "execute_result"
        }
      ]
    },
    {
      "cell_type": "code",
      "metadata": {
        "id": "OzBTAJnswOU7",
        "outputId": "eec42644-0e5e-4ee0-b5ab-3e5c75d19de9"
      },
      "source": [
        "[a[i] + b[i] + c[i] for i in range(len(a))]"
      ],
      "execution_count": null,
      "outputs": [
        {
          "data": {
            "text/plain": [
              "[18, 21, 24, 27, 30]"
            ]
          },
          "execution_count": 21,
          "metadata": {},
          "output_type": "execute_result"
        }
      ]
    },
    {
      "cell_type": "code",
      "metadata": {
        "id": "2DuVdrDqwOU7",
        "outputId": "fa73e7ff-98cd-414c-e875-5e5086b5c8c4"
      },
      "source": [
        "list(map(lambda x, y, z: x + y + z, a, b, c))"
      ],
      "execution_count": null,
      "outputs": [
        {
          "data": {
            "text/plain": [
              "[18, 21, 24, 27, 30]"
            ]
          },
          "execution_count": 22,
          "metadata": {},
          "output_type": "execute_result"
        }
      ]
    },
    {
      "cell_type": "code",
      "metadata": {
        "id": "iIMhAZ2OwOU7",
        "outputId": "3f91e3ab-efd9-49b5-84d0-b3357c8db89e"
      },
      "source": [
        "list(map(lambda x: x[0] + x[1] + x[2], zip(a, b, c)))"
      ],
      "execution_count": null,
      "outputs": [
        {
          "data": {
            "text/plain": [
              "[18, 21, 24, 27, 30]"
            ]
          },
          "execution_count": 23,
          "metadata": {},
          "output_type": "execute_result"
        }
      ]
    },
    {
      "cell_type": "code",
      "metadata": {
        "id": "ik1j8w6nwOU8",
        "outputId": "c349ae9b-95ea-4523-ad9c-e5d5a5796293"
      },
      "source": [
        "list(map(sum, zip(a, b, c)))"
      ],
      "execution_count": null,
      "outputs": [
        {
          "data": {
            "text/plain": [
              "[18, 21, 24, 27, 30]"
            ]
          },
          "execution_count": 24,
          "metadata": {},
          "output_type": "execute_result"
        }
      ]
    },
    {
      "cell_type": "code",
      "metadata": {
        "id": "FJxMX3D4wOU8",
        "outputId": "fbecd71b-a522-4409-f1b4-44f8116dbea0"
      },
      "source": [
        "[x + y + z for x, y, z in zip(a, b, c)]"
      ],
      "execution_count": null,
      "outputs": [
        {
          "data": {
            "text/plain": [
              "[18, 21, 24, 27, 30]"
            ]
          },
          "execution_count": 25,
          "metadata": {},
          "output_type": "execute_result"
        }
      ]
    },
    {
      "cell_type": "code",
      "metadata": {
        "id": "tjoPfT60wOU-",
        "outputId": "2f3cb5d9-6f18-4941-844e-60f8bf93aa57"
      },
      "source": [
        "[sum(x) for x in zip(a, b, c)]"
      ],
      "execution_count": null,
      "outputs": [
        {
          "data": {
            "text/plain": [
              "[18, 21, 24, 27, 30]"
            ]
          },
          "execution_count": 26,
          "metadata": {},
          "output_type": "execute_result"
        }
      ]
    },
    {
      "cell_type": "code",
      "metadata": {
        "id": "J4KmsKuowOU-",
        "outputId": "89551c68-db49-4060-e830-c2e8e7aae7a1"
      },
      "source": [
        "t = []\n",
        "for x, y, z in zip(a, b, c):\n",
        "    global t\n",
        "    t.append(x + y + z)\n",
        "print(t)"
      ],
      "execution_count": null,
      "outputs": [
        {
          "ename": "SyntaxError",
          "evalue": "name 't' is assigned to before global declaration (cell_name, line 6)",
          "output_type": "error",
          "traceback": [
            "\u001b[1;36m  File \u001b[1;32m\"cell_name\"\u001b[1;36m, line \u001b[1;32m6\u001b[0m\n\u001b[1;31mSyntaxError\u001b[0m\u001b[1;31m:\u001b[0m name 't' is assigned to before global declaration\n"
          ]
        }
      ]
    },
    {
      "cell_type": "code",
      "metadata": {
        "id": "VEA2EBqawOU_",
        "outputId": "a62b762a-6123-47fc-d3f5-6156659680a9"
      },
      "source": [
        "x = []\n",
        "\n",
        "def function(x):\n",
        "    global x\n",
        "    list.append(x)\n",
        "\n",
        "function(1)\n",
        "function(2)\n",
        "print(list)"
      ],
      "execution_count": null,
      "outputs": [
        {
          "ename": "SyntaxError",
          "evalue": "name 'x' is parameter and global (cell_name, line 7)",
          "output_type": "error",
          "traceback": [
            "\u001b[1;36m  File \u001b[1;32m\"cell_name\"\u001b[1;36m, line \u001b[1;32m7\u001b[0m\n\u001b[1;31mSyntaxError\u001b[0m\u001b[1;31m:\u001b[0m name 'x' is parameter and global\n"
          ]
        }
      ]
    },
    {
      "cell_type": "code",
      "metadata": {
        "id": "lonyUetLwOU_",
        "outputId": "07bfccbd-d09d-40bb-dc5a-7255b380a891"
      },
      "source": [
        "[sum(x) for x in zip(*[a, b, c])]"
      ],
      "execution_count": null,
      "outputs": [
        {
          "data": {
            "text/plain": [
              "[18, 21, 24, 27, 30]"
            ]
          },
          "execution_count": 29,
          "metadata": {},
          "output_type": "execute_result"
        }
      ]
    },
    {
      "cell_type": "code",
      "metadata": {
        "id": "zlQxY5IqwOU_",
        "outputId": "ab276beb-c519-49a4-a5ee-52f6679cea2b"
      },
      "source": [
        "import numpy as np\n",
        "np.sum([a, b, c], axis = 0).tolist()"
      ],
      "execution_count": null,
      "outputs": [
        {
          "data": {
            "text/plain": [
              "[18, 21, 24, 27, 30]"
            ]
          },
          "execution_count": 30,
          "metadata": {},
          "output_type": "execute_result"
        }
      ]
    },
    {
      "cell_type": "code",
      "metadata": {
        "id": "WFNExCCxwOU_",
        "outputId": "d9cd346c-d237-409a-bbfe-64cc299b0ec2"
      },
      "source": [
        "import numpy as np\n",
        "(np.array(a) + np.array(b) + np.array(c)).tolist()"
      ],
      "execution_count": null,
      "outputs": [
        {
          "data": {
            "text/plain": [
              "[18, 21, 24, 27, 30]"
            ]
          },
          "execution_count": 31,
          "metadata": {},
          "output_type": "execute_result"
        }
      ]
    },
    {
      "cell_type": "code",
      "metadata": {
        "id": "JRxu3mcMwOU_",
        "outputId": "5d4e232c-4206-44b4-8617-0f4dfd122140"
      },
      "source": [
        "import itertools\n",
        "[sum(sublist) for sublist in itertools.chain(zip(*[a, b, c]))]"
      ],
      "execution_count": null,
      "outputs": [
        {
          "data": {
            "text/plain": [
              "[18, 21, 24, 27, 30]"
            ]
          },
          "execution_count": 32,
          "metadata": {},
          "output_type": "execute_result"
        }
      ]
    },
    {
      "cell_type": "markdown",
      "metadata": {
        "id": "IvrcSYARwOVA"
      },
      "source": [
        "## Flatten List of Lists"
      ]
    },
    {
      "cell_type": "markdown",
      "metadata": {
        "id": "8hjePuE6wOVA"
      },
      "source": [
        "### Flatten"
      ]
    },
    {
      "cell_type": "code",
      "metadata": {
        "id": "B6yrHb2TwOVA",
        "outputId": "18f9570f-19bf-4ec1-bea2-fa14ee65db51"
      },
      "source": [
        "lst = []\n",
        "for x in list_of_lists:\n",
        "    lst.extend(x)\n",
        "lst"
      ],
      "execution_count": null,
      "outputs": [
        {
          "data": {
            "text/plain": [
              "[1, 2, 3, 4, 5, 6, 7, 8, 9, 10, 11, 12, 13, 14, 15]"
            ]
          },
          "execution_count": 33,
          "metadata": {},
          "output_type": "execute_result"
        }
      ]
    },
    {
      "cell_type": "code",
      "metadata": {
        "id": "_tjy-KMhwOVA",
        "outputId": "d03bb482-9081-4bbb-fe9a-76d6f3c84909"
      },
      "source": [
        "sum(list_of_lists, [])"
      ],
      "execution_count": null,
      "outputs": [
        {
          "data": {
            "text/plain": [
              "[1, 2, 3, 4, 5, 6, 7, 8, 9, 10, 11, 12, 13, 14, 15]"
            ]
          },
          "execution_count": 34,
          "metadata": {},
          "output_type": "execute_result"
        }
      ]
    },
    {
      "cell_type": "code",
      "metadata": {
        "id": "LBRAKMiewOVA",
        "outputId": "c87e6567-9e1f-4401-e660-efde4e320d6d"
      },
      "source": [
        "[element for array in list_of_lists for element in array]"
      ],
      "execution_count": null,
      "outputs": [
        {
          "data": {
            "text/plain": [
              "[1, 2, 3, 4, 5, 6, 7, 8, 9, 10, 11, 12, 13, 14, 15]"
            ]
          },
          "execution_count": 35,
          "metadata": {},
          "output_type": "execute_result"
        }
      ]
    },
    {
      "cell_type": "code",
      "metadata": {
        "id": "VNYNuZ7mwOVA",
        "outputId": "d1dcdc04-bea5-4bc2-d39c-3802780ac2b5"
      },
      "source": [
        "import numpy as np\n",
        "np.array(list_of_lists).flatten().tolist()"
      ],
      "execution_count": null,
      "outputs": [
        {
          "data": {
            "text/plain": [
              "[1, 2, 3, 4, 5, 6, 7, 8, 9, 10, 11, 12, 13, 14, 15]"
            ]
          },
          "execution_count": 36,
          "metadata": {},
          "output_type": "execute_result"
        }
      ]
    },
    {
      "cell_type": "code",
      "metadata": {
        "id": "CnK-QlpywOVB",
        "outputId": "c9816178-6698-4ea5-d7cf-e6b6dfa0b2b3"
      },
      "source": [
        "import numpy as np\n",
        "list(np.array(list_of_lists).flat)"
      ],
      "execution_count": null,
      "outputs": [
        {
          "data": {
            "text/plain": [
              "[1, 2, 3, 4, 5, 6, 7, 8, 9, 10, 11, 12, 13, 14, 15]"
            ]
          },
          "execution_count": 37,
          "metadata": {},
          "output_type": "execute_result"
        }
      ]
    },
    {
      "cell_type": "code",
      "metadata": {
        "id": "Oj4iF_DJwOVB",
        "outputId": "d89f4afd-02af-40a5-f44c-11a0067b2d1e"
      },
      "source": [
        "import numpy as np\n",
        "list(np.concatenate(list_of_lists))"
      ],
      "execution_count": null,
      "outputs": [
        {
          "data": {
            "text/plain": [
              "[1, 2, 3, 4, 5, 6, 7, 8, 9, 10, 11, 12, 13, 14, 15]"
            ]
          },
          "execution_count": 38,
          "metadata": {},
          "output_type": "execute_result"
        }
      ]
    },
    {
      "cell_type": "code",
      "metadata": {
        "id": "WOYzekJRwOVB",
        "outputId": "a9990115-32fd-4637-8583-e13372513978"
      },
      "source": [
        "import pandas as pd\n",
        "list(pd.core.common.flatten(list_of_lists))"
      ],
      "execution_count": null,
      "outputs": [
        {
          "data": {
            "text/plain": [
              "[1, 2, 3, 4, 5, 6, 7, 8, 9, 10, 11, 12, 13, 14, 15]"
            ]
          },
          "execution_count": 39,
          "metadata": {},
          "output_type": "execute_result"
        }
      ]
    },
    {
      "cell_type": "code",
      "metadata": {
        "id": "laa4zpxKwOVB",
        "outputId": "8d8cef59-b8c2-405d-81a2-457ccaecc151"
      },
      "source": [
        "import matplotlib as plt\n",
        "list(plt.cbook.flatten(list_of_lists))"
      ],
      "execution_count": null,
      "outputs": [
        {
          "data": {
            "text/plain": [
              "[1, 2, 3, 4, 5, 6, 7, 8, 9, 10, 11, 12, 13, 14, 15]"
            ]
          },
          "execution_count": 40,
          "metadata": {},
          "output_type": "execute_result"
        }
      ]
    },
    {
      "cell_type": "code",
      "metadata": {
        "id": "efRbgiWnwOVC",
        "outputId": "78ca8fdb-47b8-4eb2-ddf9-b15a2451c6ab"
      },
      "source": [
        "import nltk\n",
        "nltk.flatten(list_of_lists)"
      ],
      "execution_count": null,
      "outputs": [
        {
          "data": {
            "text/plain": [
              "[1, 2, 3, 4, 5, 6, 7, 8, 9, 10, 11, 12, 13, 14, 15]"
            ]
          },
          "execution_count": 41,
          "metadata": {},
          "output_type": "execute_result"
        }
      ]
    },
    {
      "cell_type": "code",
      "metadata": {
        "id": "rVGCKBc2wOVC",
        "outputId": "2f0ee5aa-9a57-462b-f1e6-eb8c219c1930"
      },
      "source": [
        "import itertools\n",
        "list(itertools.chain(*list_of_lists))"
      ],
      "execution_count": null,
      "outputs": [
        {
          "data": {
            "text/plain": [
              "[1, 2, 3, 4, 5, 6, 7, 8, 9, 10, 11, 12, 13, 14, 15]"
            ]
          },
          "execution_count": 42,
          "metadata": {},
          "output_type": "execute_result"
        }
      ]
    },
    {
      "cell_type": "code",
      "metadata": {
        "id": "yW7DBQrCwOVC",
        "outputId": "973f79c3-123a-4609-f3ba-359ba9592747"
      },
      "source": [
        "import itertools\n",
        "list(itertools.chain.from_iterable(list_of_lists))"
      ],
      "execution_count": null,
      "outputs": [
        {
          "data": {
            "text/plain": [
              "[1, 2, 3, 4, 5, 6, 7, 8, 9, 10, 11, 12, 13, 14, 15]"
            ]
          },
          "execution_count": 43,
          "metadata": {},
          "output_type": "execute_result"
        }
      ]
    },
    {
      "cell_type": "code",
      "metadata": {
        "id": "xxnepWQZwOVC",
        "outputId": "5a8f0c4f-e782-4ecd-c7eb-376ae9672b00"
      },
      "source": [
        "import more_itertools\n",
        "list(more_itertools.flatten(list_of_lists))"
      ],
      "execution_count": null,
      "outputs": [
        {
          "data": {
            "text/plain": [
              "[1, 2, 3, 4, 5, 6, 7, 8, 9, 10, 11, 12, 13, 14, 15]"
            ]
          },
          "execution_count": 44,
          "metadata": {},
          "output_type": "execute_result"
        }
      ]
    },
    {
      "cell_type": "code",
      "metadata": {
        "id": "s_k-dXRzwOVC",
        "outputId": "5bc2d223-6ea2-4320-a79b-566875fdbd4b"
      },
      "source": [
        "import more_itertools\n",
        "list(more_itertools.collapse(list_of_lists))"
      ],
      "execution_count": null,
      "outputs": [
        {
          "data": {
            "text/plain": [
              "[1, 2, 3, 4, 5, 6, 7, 8, 9, 10, 11, 12, 13, 14, 15]"
            ]
          },
          "execution_count": 45,
          "metadata": {},
          "output_type": "execute_result"
        }
      ]
    },
    {
      "cell_type": "code",
      "metadata": {
        "id": "DCG1dnsAwOVD",
        "outputId": "d645c804-9aae-42d0-8a69-a1e6d3fcc17b"
      },
      "source": [
        "import functools\n",
        "functools.reduce(lambda x, y: x + y, list_of_lists)"
      ],
      "execution_count": null,
      "outputs": [
        {
          "data": {
            "text/plain": [
              "[1, 2, 3, 4, 5, 6, 7, 8, 9, 10, 11, 12, 13, 14, 15]"
            ]
          },
          "execution_count": 46,
          "metadata": {},
          "output_type": "execute_result"
        }
      ]
    },
    {
      "cell_type": "code",
      "metadata": {
        "id": "F1vvoUtUwOVD",
        "outputId": "b3883f4c-31c3-468a-d1b0-988be29464a4"
      },
      "source": [
        "import functools\n",
        "import operator\n",
        "functools.reduce(operator.add, list_of_lists)"
      ],
      "execution_count": null,
      "outputs": [
        {
          "data": {
            "text/plain": [
              "[1, 2, 3, 4, 5, 6, 7, 8, 9, 10, 11, 12, 13, 14, 15]"
            ]
          },
          "execution_count": 47,
          "metadata": {},
          "output_type": "execute_result"
        }
      ]
    },
    {
      "cell_type": "code",
      "metadata": {
        "id": "moog36YFwOVD",
        "outputId": "2ffb8414-4c91-404d-f6c1-2213c4ee12e7"
      },
      "source": [
        "import functools\n",
        "import operator\n",
        "functools.reduce(operator.concat, list_of_lists)"
      ],
      "execution_count": null,
      "outputs": [
        {
          "data": {
            "text/plain": [
              "[1, 2, 3, 4, 5, 6, 7, 8, 9, 10, 11, 12, 13, 14, 15]"
            ]
          },
          "execution_count": 48,
          "metadata": {},
          "output_type": "execute_result"
        }
      ]
    },
    {
      "cell_type": "code",
      "metadata": {
        "id": "8_O506IpwOVD",
        "outputId": "3d7f9531-449f-4560-879e-1e684eaf29cd"
      },
      "source": [
        "import functools\n",
        "import operator\n",
        "functools.reduce(operator.iconcat, list_of_lists, [])"
      ],
      "execution_count": null,
      "outputs": [
        {
          "data": {
            "text/plain": [
              "[1, 2, 3, 4, 5, 6, 7, 8, 9, 10, 11, 12, 13, 14, 15]"
            ]
          },
          "execution_count": 49,
          "metadata": {},
          "output_type": "execute_result"
        }
      ]
    },
    {
      "cell_type": "markdown",
      "metadata": {
        "id": "KoxawL3KwOVD"
      },
      "source": [
        "### Flatten mixed list"
      ]
    },
    {
      "cell_type": "code",
      "metadata": {
        "id": "pcLgFOSMwOVE"
      },
      "source": [
        "mixed_list = [1, 2, [3, 4, [5]],[[6, 7], [8, 9]], [10, 11, 12], [13, 14, 15]]"
      ],
      "execution_count": null,
      "outputs": []
    },
    {
      "cell_type": "code",
      "metadata": {
        "id": "Zw2gm-WvwOVE",
        "outputId": "dc210c7e-96c2-4800-93bd-d402cb28877d"
      },
      "source": [
        "import pandas as pd\n",
        "list(pd.core.common.flatten(mixed_list))"
      ],
      "execution_count": null,
      "outputs": [
        {
          "data": {
            "text/plain": [
              "[1, 2, 3, 4, 5, 6, 7, 8, 9, 10, 11, 12, 13, 14, 15]"
            ]
          },
          "execution_count": 51,
          "metadata": {},
          "output_type": "execute_result"
        }
      ]
    },
    {
      "cell_type": "code",
      "metadata": {
        "id": "wEisSF69wOVE",
        "outputId": "60534924-6964-42f7-93ad-649645abe4f8"
      },
      "source": [
        "import matplotlib as plt\n",
        "list(plt.cbook.flatten(mixed_list))"
      ],
      "execution_count": null,
      "outputs": [
        {
          "data": {
            "text/plain": [
              "[1, 2, 3, 4, 5, 6, 7, 8, 9, 10, 11, 12, 13, 14, 15]"
            ]
          },
          "execution_count": 52,
          "metadata": {},
          "output_type": "execute_result"
        }
      ]
    },
    {
      "cell_type": "code",
      "metadata": {
        "id": "IcezMkNtwOVE",
        "outputId": "f26d5f06-5a7f-4646-a96e-b2d2dc85dede"
      },
      "source": [
        "import nltk\n",
        "nltk.flatten(mixed_list)"
      ],
      "execution_count": null,
      "outputs": [
        {
          "data": {
            "text/plain": [
              "[1, 2, 3, 4, 5, 6, 7, 8, 9, 10, 11, 12, 13, 14, 15]"
            ]
          },
          "execution_count": 53,
          "metadata": {},
          "output_type": "execute_result"
        }
      ]
    },
    {
      "cell_type": "code",
      "metadata": {
        "id": "TslMwSlrwOVE",
        "outputId": "36a21dd6-9a47-4b7f-939e-7758e33b8018"
      },
      "source": [
        "import more_itertools\n",
        "list(more_itertools.collapse(mixed_list))"
      ],
      "execution_count": null,
      "outputs": [
        {
          "data": {
            "text/plain": [
              "[1, 2, 3, 4, 5, 6, 7, 8, 9, 10, 11, 12, 13, 14, 15]"
            ]
          },
          "execution_count": 54,
          "metadata": {},
          "output_type": "execute_result"
        }
      ]
    },
    {
      "cell_type": "markdown",
      "metadata": {
        "id": "Cygzl-hzwOVE"
      },
      "source": [
        "## Iterate a list as pair"
      ]
    },
    {
      "cell_type": "code",
      "metadata": {
        "id": "lyQMbDjawOVF",
        "outputId": "c458bedc-04b6-4120-8678-cdf0ff45a22d"
      },
      "source": [
        "[[a[i], a[i+1]] for i in range(len(a)-1)]"
      ],
      "execution_count": null,
      "outputs": [
        {
          "data": {
            "text/plain": [
              "[[1, 2], [2, 3], [3, 4], [4, 5]]"
            ]
          },
          "execution_count": 55,
          "metadata": {},
          "output_type": "execute_result"
        }
      ]
    },
    {
      "cell_type": "markdown",
      "metadata": {
        "id": "4LJU4VC9wOVF"
      },
      "source": [
        "## Count all elements\n",
        "https://stackoverflow.com/questions/2600191/how-can-i-count-the-occurrences-of-a-list-item"
      ]
    },
    {
      "cell_type": "code",
      "metadata": {
        "ExecuteTime": {
          "end_time": "2021-04-15T02:12:01.828241Z",
          "start_time": "2021-04-15T02:12:01.820235Z"
        },
        "id": "SiFfhIIFwOVF"
      },
      "source": [
        "a = [1, 2, 3, 4, 1, 4, 1]"
      ],
      "execution_count": null,
      "outputs": []
    },
    {
      "cell_type": "code",
      "metadata": {
        "ExecuteTime": {
          "end_time": "2021-04-15T02:13:25.292044Z",
          "start_time": "2021-04-15T02:13:25.273044Z"
        },
        "id": "ZodlD3FkwOVF",
        "outputId": "a0a7ab34-b6b0-4050-b847-2d73b6dcfce1"
      },
      "source": [
        "a.count(2)"
      ],
      "execution_count": null,
      "outputs": [
        {
          "data": {
            "text/plain": [
              "1"
            ]
          },
          "execution_count": 3,
          "metadata": {},
          "output_type": "execute_result"
        }
      ]
    },
    {
      "cell_type": "code",
      "metadata": {
        "ExecuteTime": {
          "end_time": "2021-04-15T02:12:30.480430Z",
          "start_time": "2021-04-15T02:12:30.457433Z"
        },
        "id": "gFchvZSCwOVF",
        "outputId": "50734027-0a0c-42d6-dbe8-1312eec57b58"
      },
      "source": [
        "from collections import Counter\n",
        "Counter(a)\n"
      ],
      "execution_count": null,
      "outputs": [
        {
          "data": {
            "text/plain": [
              "Counter({1: 3, 2: 1, 3: 1, 4: 2})"
            ]
          },
          "execution_count": 2,
          "metadata": {},
          "output_type": "execute_result"
        }
      ]
    },
    {
      "cell_type": "code",
      "metadata": {
        "ExecuteTime": {
          "end_time": "2021-04-15T02:14:09.803174Z",
          "start_time": "2021-04-15T02:14:08.726279Z"
        },
        "id": "vcG5AodAwOVF",
        "outputId": "5c0ee1d3-67ca-4696-c457-a19891e84987"
      },
      "source": [
        "import numpy\n",
        "numpy.bincount(a)"
      ],
      "execution_count": null,
      "outputs": [
        {
          "data": {
            "text/plain": [
              "array([0, 3, 1, 1, 2], dtype=int64)"
            ]
          },
          "execution_count": 4,
          "metadata": {},
          "output_type": "execute_result"
        }
      ]
    },
    {
      "cell_type": "code",
      "metadata": {
        "ExecuteTime": {
          "end_time": "2021-04-15T02:15:07.437594Z",
          "start_time": "2021-04-15T02:15:05.527059Z"
        },
        "id": "NQXfXPTnwOVG",
        "outputId": "cc18874d-b965-452f-c7a5-95632516c1b0"
      },
      "source": [
        "import pandas\n",
        "pandas.Series(a).value_counts()"
      ],
      "execution_count": null,
      "outputs": [
        {
          "data": {
            "text/plain": [
              "1    3\n",
              "4    2\n",
              "2    1\n",
              "3    1\n",
              "dtype: int64"
            ]
          },
          "execution_count": 5,
          "metadata": {},
          "output_type": "execute_result"
        }
      ]
    },
    {
      "cell_type": "code",
      "metadata": {
        "id": "wP4vbHIvwOVG"
      },
      "source": [
        ""
      ],
      "execution_count": null,
      "outputs": []
    }
  ]
}